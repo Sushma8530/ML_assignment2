{
 "cells": [
  {
   "cell_type": "markdown",
   "id": "d6466471",
   "metadata": {},
   "source": [
    "#q1"
   ]
  },
  {
   "cell_type": "code",
   "execution_count": 6,
   "id": "55a251cf",
   "metadata": {},
   "outputs": [
    {
     "name": "stdout",
     "output_type": "stream",
     "text": [
      "*\r\n",
      "**\r\n",
      "***\r\n",
      "****\r\n",
      "*****\r\n",
      "****\r\n",
      "***\r\n",
      "**\r\n",
      "*\r\n",
      "\r\n"
     ]
    }
   ],
   "source": [
    "rows=5\n",
    "for i in range(0,rows):\n",
    "    for j in range(0,i+1):\n",
    "        print(\"*\",end='')\n",
    "    print(\"\\r\")\n",
    "for i in range (rows,0,-1):\n",
    "    for j in range(0,i-1):\n",
    "        print(\"*\",end='')\n",
    "    print(\"\\r\")"
   ]
  },
  {
   "cell_type": "markdown",
   "id": "e8f1532e",
   "metadata": {},
   "source": [
    "#q2"
   ]
  },
  {
   "cell_type": "code",
   "execution_count": 11,
   "id": "30dab840",
   "metadata": {},
   "outputs": [
    {
     "name": "stdout",
     "output_type": "stream",
     "text": [
      "list present at odd indexes\n",
      "20 40 60 80 100 "
     ]
    }
   ],
   "source": [
    "list = [10, 20, 30, 40, 50, 60, 70, 80, 90, 100]\n",
    "print( \"list present at odd indexes\")\n",
    "for i in list [1::2]:\n",
    "    print(i, end=' ')"
   ]
  },
  {
   "cell_type": "markdown",
   "id": "3b367a20",
   "metadata": {},
   "source": [
    "#q3"
   ]
  },
  {
   "cell_type": "code",
   "execution_count": 17,
   "id": "b1935e71",
   "metadata": {},
   "outputs": [
    {
     "name": "stdout",
     "output_type": "stream",
     "text": [
      "[23, 'Python', 23.98]\n",
      "[<class 'int'>, <class 'str'>, <class 'float'>]\n"
     ]
    }
   ],
   "source": [
    "x = [23, 'Python' , 23.98]\n",
    "print(x)\n",
    "outputx = []\n",
    "for output in range(len(x)):\n",
    "    outputx.append(type(x[output]))\n",
    "print(outputx)"
   ]
  },
  {
   "cell_type": "markdown",
   "id": "1a484df2",
   "metadata": {},
   "source": [
    "#q4"
   ]
  },
  {
   "cell_type": "code",
   "execution_count": 22,
   "id": "025a9cd7",
   "metadata": {},
   "outputs": [
    {
     "name": "stdout",
     "output_type": "stream",
     "text": [
      "[1, 2, 3, 4, 5]\n"
     ]
    }
   ],
   "source": [
    "Given_List: [1,2,3,3,3,3,4,5]\n",
    "uniquelist=[]\n",
    "def unqlist(Given_list):\n",
    "    for i in Given_list:\n",
    "        if i not in uniquelist:\n",
    "            uniquelist.append(i)\n",
    "    return uniquelist\n",
    "print(unqlist([1,2,3,3,3,3,4,5]))"
   ]
  },
  {
   "cell_type": "markdown",
   "id": "1f040a56",
   "metadata": {},
   "source": [
    "#q5"
   ]
  },
  {
   "cell_type": "code",
   "execution_count": 4,
   "id": "d0f7db5a",
   "metadata": {},
   "outputs": [
    {
     "name": "stdout",
     "output_type": "stream",
     "text": [
      "input string :  The quick Brow Fox\n",
      "no of upper_case characters: 3\n",
      "no of lower_case characters: 12\n"
     ]
    }
   ],
   "source": [
    "def uplow(string):\n",
    "    ul={\"u_case\":0,\"l_case\":0}\n",
    "    for i in string:\n",
    "        if i.isupper():\n",
    "            ul[\"u_case\"]+=1\n",
    "        elif i.islower():\n",
    "            ul[\"l_case\"]+=1\n",
    "        else:\n",
    "            pass\n",
    "    print(\"input string : \", string)\n",
    "    print(\"no of upper_case characters:\", ul[\"u_case\"])\n",
    "    print(\"no of lower_case characters:\", ul[\"l_case\"])\n",
    "    \n",
    "uplow(\"The quick Brow Fox\")"
   ]
  },
  {
   "cell_type": "code",
   "execution_count": null,
   "id": "8cfb5e0f",
   "metadata": {},
   "outputs": [],
   "source": []
  }
 ],
 "metadata": {
  "kernelspec": {
   "display_name": "Python 3 (ipykernel)",
   "language": "python",
   "name": "python3"
  },
  "language_info": {
   "codemirror_mode": {
    "name": "ipython",
    "version": 3
   },
   "file_extension": ".py",
   "mimetype": "text/x-python",
   "name": "python",
   "nbconvert_exporter": "python",
   "pygments_lexer": "ipython3",
   "version": "3.9.13"
  }
 },
 "nbformat": 4,
 "nbformat_minor": 5
}
